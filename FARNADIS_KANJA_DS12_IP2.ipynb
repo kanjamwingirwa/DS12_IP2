{
  "nbformat": 4,
  "nbformat_minor": 0,
  "metadata": {
    "colab": {
      "name": "FARNADIS_KANJA_DS12_IP2",
      "provenance": [],
      "include_colab_link": true
    },
    "kernelspec": {
      "name": "python3",
      "display_name": "Python 3"
    },
    "language_info": {
      "name": "python"
    }
  },
  "cells": [
    {
      "cell_type": "markdown",
      "metadata": {
        "id": "view-in-github",
        "colab_type": "text"
      },
      "source": [
        "<a href=\"https://colab.research.google.com/github/kanjamwingirwa/DS12_IP2/blob/main/FARNADIS_KANJA_DS12_IP2.ipynb\" target=\"_parent\"><img src=\"https://colab.research.google.com/assets/colab-badge.svg\" alt=\"Open In Colab\"/></a>"
      ]
    },
    {
      "cell_type": "markdown",
      "metadata": {
        "id": "62CQjuSVKMc5"
      },
      "source": [
        "Question: \n",
        "How can we predict individuals who are most likely to have a Bank Account in Kenya, Uganda, Tanzania and Rwanda"
      ]
    },
    {
      "cell_type": "markdown",
      "metadata": {
        "id": "SUPpiEb5LfZz"
      },
      "source": [
        "Metric For Success:\n",
        "Determine each variable and how it correlates with the number of bank accounts"
      ]
    },
    {
      "cell_type": "markdown",
      "metadata": {
        "id": "2nB4JeboLtDn"
      },
      "source": [
        "Context: The data was collected in the Four East African countries mentioned"
      ]
    },
    {
      "cell_type": "markdown",
      "metadata": {
        "id": "yNSEXw0jL5wT"
      },
      "source": [
        "Experimental Design:\n",
        "We use Exploratory Data Analysis both univariate and bivariate to go through th variables given. \n"
      ]
    },
    {
      "cell_type": "markdown",
      "metadata": {
        "id": "t_Ld-Q1EMJcg"
      },
      "source": [
        "Appropriateness of the Data: \n",
        "The data is appropriates as it collates with other outside sources as indicated https://data.worldbank.org/indicator/FX.OWN.TOTL.FE.ZS?locations=KE"
      ]
    },
    {
      "cell_type": "code",
      "metadata": {
        "id": "KwXUdmk20ISv"
      },
      "source": [
        "#importing libaries\n",
        "#importing pandas\n",
        "import pandas as pd"
      ],
      "execution_count": null,
      "outputs": []
    },
    {
      "cell_type": "code",
      "metadata": {
        "id": "noNoN7ne0Nxn"
      },
      "source": [
        "#importing Numpy\n",
        "import numpy as np"
      ],
      "execution_count": null,
      "outputs": []
    },
    {
      "cell_type": "code",
      "metadata": {
        "id": "pCHdWz570RQ7"
      },
      "source": [
        "#importing Seaborn\n",
        "import seaborn as sns"
      ],
      "execution_count": null,
      "outputs": []
    },
    {
      "cell_type": "code",
      "metadata": {
        "id": "KI-N4f190U05"
      },
      "source": [
        "#importing Matplotlib\n",
        "import matplotlib.pyplot as plt"
      ],
      "execution_count": null,
      "outputs": []
    },
    {
      "cell_type": "code",
      "metadata": {
        "id": "Rf20ztRX0Yo-"
      },
      "source": [
        "#Reading the data\n",
        "banks_df=pd.read_csv('http://bit.ly/FinancialDataset')"
      ],
      "execution_count": null,
      "outputs": []
    },
    {
      "cell_type": "code",
      "metadata": {
        "colab": {
          "base_uri": "https://localhost:8080/",
          "height": 381
        },
        "id": "vVs0wvI10crX",
        "outputId": "1c96a834-ca25-4df8-af3e-997a8d05c455"
      },
      "source": [
        "#previewing the data set\n",
        "banks_df.head(5)"
      ],
      "execution_count": null,
      "outputs": [
        {
          "output_type": "execute_result",
          "data": {
            "text/html": [
              "<div>\n",
              "<style scoped>\n",
              "    .dataframe tbody tr th:only-of-type {\n",
              "        vertical-align: middle;\n",
              "    }\n",
              "\n",
              "    .dataframe tbody tr th {\n",
              "        vertical-align: top;\n",
              "    }\n",
              "\n",
              "    .dataframe thead th {\n",
              "        text-align: right;\n",
              "    }\n",
              "</style>\n",
              "<table border=\"1\" class=\"dataframe\">\n",
              "  <thead>\n",
              "    <tr style=\"text-align: right;\">\n",
              "      <th></th>\n",
              "      <th>country</th>\n",
              "      <th>year</th>\n",
              "      <th>uniqueid</th>\n",
              "      <th>Has a Bank account</th>\n",
              "      <th>Type of Location</th>\n",
              "      <th>Cell Phone Access</th>\n",
              "      <th>household_size</th>\n",
              "      <th>Respondent Age</th>\n",
              "      <th>gender_of_respondent</th>\n",
              "      <th>The relathip with head</th>\n",
              "      <th>marital_status</th>\n",
              "      <th>Level of Educuation</th>\n",
              "      <th>Type of Job</th>\n",
              "    </tr>\n",
              "  </thead>\n",
              "  <tbody>\n",
              "    <tr>\n",
              "      <th>0</th>\n",
              "      <td>Kenya</td>\n",
              "      <td>2018</td>\n",
              "      <td>uniqueid_1</td>\n",
              "      <td>Yes</td>\n",
              "      <td>Rural</td>\n",
              "      <td>Yes</td>\n",
              "      <td>3.0</td>\n",
              "      <td>24.0</td>\n",
              "      <td>Female</td>\n",
              "      <td>Spouse</td>\n",
              "      <td>Married/Living together</td>\n",
              "      <td>Secondary education</td>\n",
              "      <td>Self employed</td>\n",
              "    </tr>\n",
              "    <tr>\n",
              "      <th>1</th>\n",
              "      <td>Kenya</td>\n",
              "      <td>2018</td>\n",
              "      <td>uniqueid_2</td>\n",
              "      <td>No</td>\n",
              "      <td>Rural</td>\n",
              "      <td>No</td>\n",
              "      <td>5.0</td>\n",
              "      <td>70.0</td>\n",
              "      <td>Female</td>\n",
              "      <td>Head of Household</td>\n",
              "      <td>Widowed</td>\n",
              "      <td>No formal education</td>\n",
              "      <td>Government Dependent</td>\n",
              "    </tr>\n",
              "    <tr>\n",
              "      <th>2</th>\n",
              "      <td>Kenya</td>\n",
              "      <td>2018</td>\n",
              "      <td>uniqueid_3</td>\n",
              "      <td>Yes</td>\n",
              "      <td>Urban</td>\n",
              "      <td>Yes</td>\n",
              "      <td>5.0</td>\n",
              "      <td>26.0</td>\n",
              "      <td>Male</td>\n",
              "      <td>Other relative</td>\n",
              "      <td>Single/Never Married</td>\n",
              "      <td>Vocational/Specialised training</td>\n",
              "      <td>Self employed</td>\n",
              "    </tr>\n",
              "    <tr>\n",
              "      <th>3</th>\n",
              "      <td>Kenya</td>\n",
              "      <td>2018</td>\n",
              "      <td>uniqueid_4</td>\n",
              "      <td>No</td>\n",
              "      <td>Rural</td>\n",
              "      <td>Yes</td>\n",
              "      <td>5.0</td>\n",
              "      <td>34.0</td>\n",
              "      <td>Female</td>\n",
              "      <td>Head of Household</td>\n",
              "      <td>Married/Living together</td>\n",
              "      <td>Primary education</td>\n",
              "      <td>Formally employed Private</td>\n",
              "    </tr>\n",
              "    <tr>\n",
              "      <th>4</th>\n",
              "      <td>Kenya</td>\n",
              "      <td>2018</td>\n",
              "      <td>uniqueid_5</td>\n",
              "      <td>No</td>\n",
              "      <td>Urban</td>\n",
              "      <td>No</td>\n",
              "      <td>8.0</td>\n",
              "      <td>26.0</td>\n",
              "      <td>Male</td>\n",
              "      <td>Child</td>\n",
              "      <td>Single/Never Married</td>\n",
              "      <td>Primary education</td>\n",
              "      <td>Informally employed</td>\n",
              "    </tr>\n",
              "  </tbody>\n",
              "</table>\n",
              "</div>"
            ],
            "text/plain": [
              "  country  year  ...              Level of Educuation                Type of Job\n",
              "0   Kenya  2018  ...              Secondary education              Self employed\n",
              "1   Kenya  2018  ...              No formal education       Government Dependent\n",
              "2   Kenya  2018  ...  Vocational/Specialised training              Self employed\n",
              "3   Kenya  2018  ...                Primary education  Formally employed Private\n",
              "4   Kenya  2018  ...                Primary education        Informally employed\n",
              "\n",
              "[5 rows x 13 columns]"
            ]
          },
          "metadata": {},
          "execution_count": 7
        }
      ]
    },
    {
      "cell_type": "code",
      "metadata": {
        "colab": {
          "base_uri": "https://localhost:8080/",
          "height": 329
        },
        "id": "tQqdqQAO0sJq",
        "outputId": "01490577-5b56-4052-c438-80b405310d1d"
      },
      "source": [
        "#data_cleaning\n",
        "#First, we rename the columns to make the data easier to work with \n",
        "banks_df = banks_df.rename(columns={'Type of Location':'type_of_location','Respondent Age':'Age','gender_of_respondent':'gender', 'Has a Bank account': 'BANK_AC', 'Cell Phone Access':'Cell_Phone_Access', 'The relathip with head':'Relationship_with_head','Level of Educuation': 'Education_Level', 'Type of Job': 'Job_Type'}, index={'ONE': 'Row_1'})\n",
        "banks_df.head(5)"
      ],
      "execution_count": null,
      "outputs": [
        {
          "output_type": "execute_result",
          "data": {
            "text/html": [
              "<div>\n",
              "<style scoped>\n",
              "    .dataframe tbody tr th:only-of-type {\n",
              "        vertical-align: middle;\n",
              "    }\n",
              "\n",
              "    .dataframe tbody tr th {\n",
              "        vertical-align: top;\n",
              "    }\n",
              "\n",
              "    .dataframe thead th {\n",
              "        text-align: right;\n",
              "    }\n",
              "</style>\n",
              "<table border=\"1\" class=\"dataframe\">\n",
              "  <thead>\n",
              "    <tr style=\"text-align: right;\">\n",
              "      <th></th>\n",
              "      <th>country</th>\n",
              "      <th>year</th>\n",
              "      <th>uniqueid</th>\n",
              "      <th>BANK_AC</th>\n",
              "      <th>type_of_location</th>\n",
              "      <th>Cell_Phone_Access</th>\n",
              "      <th>household_size</th>\n",
              "      <th>Age</th>\n",
              "      <th>gender</th>\n",
              "      <th>Relationship_with_head</th>\n",
              "      <th>marital_status</th>\n",
              "      <th>Education_Level</th>\n",
              "      <th>Job_Type</th>\n",
              "    </tr>\n",
              "  </thead>\n",
              "  <tbody>\n",
              "    <tr>\n",
              "      <th>0</th>\n",
              "      <td>Kenya</td>\n",
              "      <td>2018</td>\n",
              "      <td>uniqueid_1</td>\n",
              "      <td>Yes</td>\n",
              "      <td>Rural</td>\n",
              "      <td>Yes</td>\n",
              "      <td>3.0</td>\n",
              "      <td>24.0</td>\n",
              "      <td>Female</td>\n",
              "      <td>Spouse</td>\n",
              "      <td>Married/Living together</td>\n",
              "      <td>Secondary education</td>\n",
              "      <td>Self employed</td>\n",
              "    </tr>\n",
              "    <tr>\n",
              "      <th>1</th>\n",
              "      <td>Kenya</td>\n",
              "      <td>2018</td>\n",
              "      <td>uniqueid_2</td>\n",
              "      <td>No</td>\n",
              "      <td>Rural</td>\n",
              "      <td>No</td>\n",
              "      <td>5.0</td>\n",
              "      <td>70.0</td>\n",
              "      <td>Female</td>\n",
              "      <td>Head of Household</td>\n",
              "      <td>Widowed</td>\n",
              "      <td>No formal education</td>\n",
              "      <td>Government Dependent</td>\n",
              "    </tr>\n",
              "    <tr>\n",
              "      <th>2</th>\n",
              "      <td>Kenya</td>\n",
              "      <td>2018</td>\n",
              "      <td>uniqueid_3</td>\n",
              "      <td>Yes</td>\n",
              "      <td>Urban</td>\n",
              "      <td>Yes</td>\n",
              "      <td>5.0</td>\n",
              "      <td>26.0</td>\n",
              "      <td>Male</td>\n",
              "      <td>Other relative</td>\n",
              "      <td>Single/Never Married</td>\n",
              "      <td>Vocational/Specialised training</td>\n",
              "      <td>Self employed</td>\n",
              "    </tr>\n",
              "    <tr>\n",
              "      <th>3</th>\n",
              "      <td>Kenya</td>\n",
              "      <td>2018</td>\n",
              "      <td>uniqueid_4</td>\n",
              "      <td>No</td>\n",
              "      <td>Rural</td>\n",
              "      <td>Yes</td>\n",
              "      <td>5.0</td>\n",
              "      <td>34.0</td>\n",
              "      <td>Female</td>\n",
              "      <td>Head of Household</td>\n",
              "      <td>Married/Living together</td>\n",
              "      <td>Primary education</td>\n",
              "      <td>Formally employed Private</td>\n",
              "    </tr>\n",
              "    <tr>\n",
              "      <th>4</th>\n",
              "      <td>Kenya</td>\n",
              "      <td>2018</td>\n",
              "      <td>uniqueid_5</td>\n",
              "      <td>No</td>\n",
              "      <td>Urban</td>\n",
              "      <td>No</td>\n",
              "      <td>8.0</td>\n",
              "      <td>26.0</td>\n",
              "      <td>Male</td>\n",
              "      <td>Child</td>\n",
              "      <td>Single/Never Married</td>\n",
              "      <td>Primary education</td>\n",
              "      <td>Informally employed</td>\n",
              "    </tr>\n",
              "  </tbody>\n",
              "</table>\n",
              "</div>"
            ],
            "text/plain": [
              "  country  year  ...                  Education_Level                   Job_Type\n",
              "0   Kenya  2018  ...              Secondary education              Self employed\n",
              "1   Kenya  2018  ...              No formal education       Government Dependent\n",
              "2   Kenya  2018  ...  Vocational/Specialised training              Self employed\n",
              "3   Kenya  2018  ...                Primary education  Formally employed Private\n",
              "4   Kenya  2018  ...                Primary education        Informally employed\n",
              "\n",
              "[5 rows x 13 columns]"
            ]
          },
          "metadata": {},
          "execution_count": 8
        }
      ]
    },
    {
      "cell_type": "code",
      "metadata": {
        "colab": {
          "base_uri": "https://localhost:8080/",
          "height": 329
        },
        "id": "_yvgPQ3M0yDX",
        "outputId": "350b9078-fa2c-49be-e4f6-a36f6ab73bff"
      },
      "source": [
        "#drop all the columns we feel is irrelevant\n",
        "banks_df = banks_df.drop(\"uniqueid\", axis=1)\n",
        "banks_df.head(5)"
      ],
      "execution_count": null,
      "outputs": [
        {
          "output_type": "execute_result",
          "data": {
            "text/html": [
              "<div>\n",
              "<style scoped>\n",
              "    .dataframe tbody tr th:only-of-type {\n",
              "        vertical-align: middle;\n",
              "    }\n",
              "\n",
              "    .dataframe tbody tr th {\n",
              "        vertical-align: top;\n",
              "    }\n",
              "\n",
              "    .dataframe thead th {\n",
              "        text-align: right;\n",
              "    }\n",
              "</style>\n",
              "<table border=\"1\" class=\"dataframe\">\n",
              "  <thead>\n",
              "    <tr style=\"text-align: right;\">\n",
              "      <th></th>\n",
              "      <th>country</th>\n",
              "      <th>year</th>\n",
              "      <th>BANK_AC</th>\n",
              "      <th>type_of_location</th>\n",
              "      <th>Cell_Phone_Access</th>\n",
              "      <th>household_size</th>\n",
              "      <th>Age</th>\n",
              "      <th>gender</th>\n",
              "      <th>Relationship_with_head</th>\n",
              "      <th>marital_status</th>\n",
              "      <th>Education_Level</th>\n",
              "      <th>Job_Type</th>\n",
              "    </tr>\n",
              "  </thead>\n",
              "  <tbody>\n",
              "    <tr>\n",
              "      <th>0</th>\n",
              "      <td>Kenya</td>\n",
              "      <td>2018</td>\n",
              "      <td>Yes</td>\n",
              "      <td>Rural</td>\n",
              "      <td>Yes</td>\n",
              "      <td>3.0</td>\n",
              "      <td>24.0</td>\n",
              "      <td>Female</td>\n",
              "      <td>Spouse</td>\n",
              "      <td>Married/Living together</td>\n",
              "      <td>Secondary education</td>\n",
              "      <td>Self employed</td>\n",
              "    </tr>\n",
              "    <tr>\n",
              "      <th>1</th>\n",
              "      <td>Kenya</td>\n",
              "      <td>2018</td>\n",
              "      <td>No</td>\n",
              "      <td>Rural</td>\n",
              "      <td>No</td>\n",
              "      <td>5.0</td>\n",
              "      <td>70.0</td>\n",
              "      <td>Female</td>\n",
              "      <td>Head of Household</td>\n",
              "      <td>Widowed</td>\n",
              "      <td>No formal education</td>\n",
              "      <td>Government Dependent</td>\n",
              "    </tr>\n",
              "    <tr>\n",
              "      <th>2</th>\n",
              "      <td>Kenya</td>\n",
              "      <td>2018</td>\n",
              "      <td>Yes</td>\n",
              "      <td>Urban</td>\n",
              "      <td>Yes</td>\n",
              "      <td>5.0</td>\n",
              "      <td>26.0</td>\n",
              "      <td>Male</td>\n",
              "      <td>Other relative</td>\n",
              "      <td>Single/Never Married</td>\n",
              "      <td>Vocational/Specialised training</td>\n",
              "      <td>Self employed</td>\n",
              "    </tr>\n",
              "    <tr>\n",
              "      <th>3</th>\n",
              "      <td>Kenya</td>\n",
              "      <td>2018</td>\n",
              "      <td>No</td>\n",
              "      <td>Rural</td>\n",
              "      <td>Yes</td>\n",
              "      <td>5.0</td>\n",
              "      <td>34.0</td>\n",
              "      <td>Female</td>\n",
              "      <td>Head of Household</td>\n",
              "      <td>Married/Living together</td>\n",
              "      <td>Primary education</td>\n",
              "      <td>Formally employed Private</td>\n",
              "    </tr>\n",
              "    <tr>\n",
              "      <th>4</th>\n",
              "      <td>Kenya</td>\n",
              "      <td>2018</td>\n",
              "      <td>No</td>\n",
              "      <td>Urban</td>\n",
              "      <td>No</td>\n",
              "      <td>8.0</td>\n",
              "      <td>26.0</td>\n",
              "      <td>Male</td>\n",
              "      <td>Child</td>\n",
              "      <td>Single/Never Married</td>\n",
              "      <td>Primary education</td>\n",
              "      <td>Informally employed</td>\n",
              "    </tr>\n",
              "  </tbody>\n",
              "</table>\n",
              "</div>"
            ],
            "text/plain": [
              "  country  year  ...                  Education_Level                   Job_Type\n",
              "0   Kenya  2018  ...              Secondary education              Self employed\n",
              "1   Kenya  2018  ...              No formal education       Government Dependent\n",
              "2   Kenya  2018  ...  Vocational/Specialised training              Self employed\n",
              "3   Kenya  2018  ...                Primary education  Formally employed Private\n",
              "4   Kenya  2018  ...                Primary education        Informally employed\n",
              "\n",
              "[5 rows x 12 columns]"
            ]
          },
          "metadata": {},
          "execution_count": 9
        }
      ]
    },
    {
      "cell_type": "code",
      "metadata": {
        "id": "tWRybolZ05ql"
      },
      "source": [
        "#drop all the rows for which household size=0 \n",
        "banks_df = banks_df.loc[~(banks_df['household_size'] == 0)]\n"
      ],
      "execution_count": null,
      "outputs": []
    },
    {
      "cell_type": "code",
      "metadata": {
        "id": "BKE38nye0_7x"
      },
      "source": [
        "#drop all the rows for which age=0 \n",
        "banks_df = banks_df.loc[~(banks_df['Age'] == 0)]"
      ],
      "execution_count": null,
      "outputs": []
    },
    {
      "cell_type": "code",
      "metadata": {
        "id": "DChaHC1T1Kn-"
      },
      "source": [
        "#remove all the nun-numerical values\n",
        "banks_df = banks_df[banks_df.isnull().sum(axis=1) < 1] "
      ],
      "execution_count": null,
      "outputs": []
    },
    {
      "cell_type": "code",
      "metadata": {
        "colab": {
          "base_uri": "https://localhost:8080/"
        },
        "id": "b0z-QE9s1Lqh",
        "outputId": "c55940f7-623d-4136-ff19-0123af511471"
      },
      "source": [
        "#check data types\n",
        "banks_df.info()"
      ],
      "execution_count": null,
      "outputs": [
        {
          "output_type": "stream",
          "name": "stdout",
          "text": [
            "<class 'pandas.core.frame.DataFrame'>\n",
            "Int64Index: 23307 entries, 0 to 23523\n",
            "Data columns (total 12 columns):\n",
            " #   Column                  Non-Null Count  Dtype  \n",
            "---  ------                  --------------  -----  \n",
            " 0   country                 23307 non-null  object \n",
            " 1   year                    23307 non-null  int64  \n",
            " 2   BANK_AC                 23307 non-null  object \n",
            " 3   type_of_location        23307 non-null  object \n",
            " 4   Cell_Phone_Access       23307 non-null  object \n",
            " 5   household_size          23307 non-null  float64\n",
            " 6   Age                     23307 non-null  float64\n",
            " 7   gender                  23307 non-null  object \n",
            " 8   Relationship_with_head  23307 non-null  object \n",
            " 9   marital_status          23307 non-null  object \n",
            " 10  Education_Level         23307 non-null  object \n",
            " 11  Job_Type                23307 non-null  object \n",
            "dtypes: float64(2), int64(1), object(9)\n",
            "memory usage: 2.3+ MB\n"
          ]
        }
      ]
    },
    {
      "cell_type": "code",
      "metadata": {
        "colab": {
          "base_uri": "https://localhost:8080/",
          "height": 254
        },
        "id": "I__eWM1gvkV2",
        "outputId": "6e94292f-0297-4a4e-c4fe-ff0e39e32270"
      },
      "source": [
        "#Remove the decimal point in age as one can't be 14.2 yrs\n",
        "banks_df['Age']=banks_df['Age'].astype(int)\n",
        "banks_df.head(5)"
      ],
      "execution_count": null,
      "outputs": [
        {
          "output_type": "execute_result",
          "data": {
            "text/html": [
              "<div>\n",
              "<style scoped>\n",
              "    .dataframe tbody tr th:only-of-type {\n",
              "        vertical-align: middle;\n",
              "    }\n",
              "\n",
              "    .dataframe tbody tr th {\n",
              "        vertical-align: top;\n",
              "    }\n",
              "\n",
              "    .dataframe thead th {\n",
              "        text-align: right;\n",
              "    }\n",
              "</style>\n",
              "<table border=\"1\" class=\"dataframe\">\n",
              "  <thead>\n",
              "    <tr style=\"text-align: right;\">\n",
              "      <th></th>\n",
              "      <th>country</th>\n",
              "      <th>year</th>\n",
              "      <th>BANK_AC</th>\n",
              "      <th>type_of_location</th>\n",
              "      <th>Cell_Phone_Access</th>\n",
              "      <th>household_size</th>\n",
              "      <th>Age</th>\n",
              "      <th>gender</th>\n",
              "      <th>Relationship_with_head</th>\n",
              "      <th>marital_status</th>\n",
              "      <th>Education_Level</th>\n",
              "      <th>Job_Type</th>\n",
              "      <th>Age_round_off</th>\n",
              "    </tr>\n",
              "  </thead>\n",
              "  <tbody>\n",
              "    <tr>\n",
              "      <th>0</th>\n",
              "      <td>Kenya</td>\n",
              "      <td>2018</td>\n",
              "      <td>Yes</td>\n",
              "      <td>Rural</td>\n",
              "      <td>Yes</td>\n",
              "      <td>3.0</td>\n",
              "      <td>24</td>\n",
              "      <td>Female</td>\n",
              "      <td>Spouse</td>\n",
              "      <td>Married/Living together</td>\n",
              "      <td>Secondary education</td>\n",
              "      <td>Self employed</td>\n",
              "      <td>24.0</td>\n",
              "    </tr>\n",
              "    <tr>\n",
              "      <th>1</th>\n",
              "      <td>Kenya</td>\n",
              "      <td>2018</td>\n",
              "      <td>No</td>\n",
              "      <td>Rural</td>\n",
              "      <td>No</td>\n",
              "      <td>5.0</td>\n",
              "      <td>70</td>\n",
              "      <td>Female</td>\n",
              "      <td>Head of Household</td>\n",
              "      <td>Widowed</td>\n",
              "      <td>No formal education</td>\n",
              "      <td>Government Dependent</td>\n",
              "      <td>70.0</td>\n",
              "    </tr>\n",
              "    <tr>\n",
              "      <th>2</th>\n",
              "      <td>Kenya</td>\n",
              "      <td>2018</td>\n",
              "      <td>Yes</td>\n",
              "      <td>Urban</td>\n",
              "      <td>Yes</td>\n",
              "      <td>5.0</td>\n",
              "      <td>26</td>\n",
              "      <td>Male</td>\n",
              "      <td>Other relative</td>\n",
              "      <td>Single/Never Married</td>\n",
              "      <td>Vocational/Specialised training</td>\n",
              "      <td>Self employed</td>\n",
              "      <td>26.0</td>\n",
              "    </tr>\n",
              "    <tr>\n",
              "      <th>3</th>\n",
              "      <td>Kenya</td>\n",
              "      <td>2018</td>\n",
              "      <td>No</td>\n",
              "      <td>Rural</td>\n",
              "      <td>Yes</td>\n",
              "      <td>5.0</td>\n",
              "      <td>34</td>\n",
              "      <td>Female</td>\n",
              "      <td>Head of Household</td>\n",
              "      <td>Married/Living together</td>\n",
              "      <td>Primary education</td>\n",
              "      <td>Formally employed Private</td>\n",
              "      <td>34.0</td>\n",
              "    </tr>\n",
              "    <tr>\n",
              "      <th>4</th>\n",
              "      <td>Kenya</td>\n",
              "      <td>2018</td>\n",
              "      <td>No</td>\n",
              "      <td>Urban</td>\n",
              "      <td>No</td>\n",
              "      <td>8.0</td>\n",
              "      <td>26</td>\n",
              "      <td>Male</td>\n",
              "      <td>Child</td>\n",
              "      <td>Single/Never Married</td>\n",
              "      <td>Primary education</td>\n",
              "      <td>Informally employed</td>\n",
              "      <td>26.0</td>\n",
              "    </tr>\n",
              "  </tbody>\n",
              "</table>\n",
              "</div>"
            ],
            "text/plain": [
              "  country  year  ...                   Job_Type Age_round_off\n",
              "0   Kenya  2018  ...              Self employed          24.0\n",
              "1   Kenya  2018  ...       Government Dependent          70.0\n",
              "2   Kenya  2018  ...              Self employed          26.0\n",
              "3   Kenya  2018  ...  Formally employed Private          34.0\n",
              "4   Kenya  2018  ...        Informally employed          26.0\n",
              "\n",
              "[5 rows x 13 columns]"
            ]
          },
          "metadata": {},
          "execution_count": 38
        }
      ]
    },
    {
      "cell_type": "code",
      "metadata": {
        "colab": {
          "base_uri": "https://localhost:8080/",
          "height": 215
        },
        "id": "xfZ_69Fs2BK4",
        "outputId": "279959af-8740-459c-d2d4-ae6f267223ab"
      },
      "source": [
        "#Remove the decimal point in household size as there is no half a person\n",
        "banks_df['household_size']=banks_df['household_size'].astype(int)\n",
        "banks_df.head(3)"
      ],
      "execution_count": null,
      "outputs": [
        {
          "output_type": "execute_result",
          "data": {
            "text/html": [
              "<div>\n",
              "<style scoped>\n",
              "    .dataframe tbody tr th:only-of-type {\n",
              "        vertical-align: middle;\n",
              "    }\n",
              "\n",
              "    .dataframe tbody tr th {\n",
              "        vertical-align: top;\n",
              "    }\n",
              "\n",
              "    .dataframe thead th {\n",
              "        text-align: right;\n",
              "    }\n",
              "</style>\n",
              "<table border=\"1\" class=\"dataframe\">\n",
              "  <thead>\n",
              "    <tr style=\"text-align: right;\">\n",
              "      <th></th>\n",
              "      <th>country</th>\n",
              "      <th>year</th>\n",
              "      <th>BANK_AC</th>\n",
              "      <th>type_of_location</th>\n",
              "      <th>Cell_Phone_Access</th>\n",
              "      <th>household_size</th>\n",
              "      <th>Age</th>\n",
              "      <th>gender</th>\n",
              "      <th>Relationship_with_head</th>\n",
              "      <th>marital_status</th>\n",
              "      <th>Education_Level</th>\n",
              "      <th>Job_Type</th>\n",
              "    </tr>\n",
              "  </thead>\n",
              "  <tbody>\n",
              "    <tr>\n",
              "      <th>0</th>\n",
              "      <td>Kenya</td>\n",
              "      <td>2018</td>\n",
              "      <td>Yes</td>\n",
              "      <td>Rural</td>\n",
              "      <td>Yes</td>\n",
              "      <td>3</td>\n",
              "      <td>24.0</td>\n",
              "      <td>Female</td>\n",
              "      <td>Spouse</td>\n",
              "      <td>Married/Living together</td>\n",
              "      <td>Secondary education</td>\n",
              "      <td>Self employed</td>\n",
              "    </tr>\n",
              "    <tr>\n",
              "      <th>1</th>\n",
              "      <td>Kenya</td>\n",
              "      <td>2018</td>\n",
              "      <td>No</td>\n",
              "      <td>Rural</td>\n",
              "      <td>No</td>\n",
              "      <td>5</td>\n",
              "      <td>70.0</td>\n",
              "      <td>Female</td>\n",
              "      <td>Head of Household</td>\n",
              "      <td>Widowed</td>\n",
              "      <td>No formal education</td>\n",
              "      <td>Government Dependent</td>\n",
              "    </tr>\n",
              "    <tr>\n",
              "      <th>2</th>\n",
              "      <td>Kenya</td>\n",
              "      <td>2018</td>\n",
              "      <td>Yes</td>\n",
              "      <td>Urban</td>\n",
              "      <td>Yes</td>\n",
              "      <td>5</td>\n",
              "      <td>26.0</td>\n",
              "      <td>Male</td>\n",
              "      <td>Other relative</td>\n",
              "      <td>Single/Never Married</td>\n",
              "      <td>Vocational/Specialised training</td>\n",
              "      <td>Self employed</td>\n",
              "    </tr>\n",
              "  </tbody>\n",
              "</table>\n",
              "</div>"
            ],
            "text/plain": [
              "  country  year  ...                  Education_Level              Job_Type\n",
              "0   Kenya  2018  ...              Secondary education         Self employed\n",
              "1   Kenya  2018  ...              No formal education  Government Dependent\n",
              "2   Kenya  2018  ...  Vocational/Specialised training         Self employed\n",
              "\n",
              "[3 rows x 12 columns]"
            ]
          },
          "metadata": {},
          "execution_count": 25
        }
      ]
    },
    {
      "cell_type": "markdown",
      "metadata": {
        "id": "u20bAmyL3AH1"
      },
      "source": [
        "Univariate Analysis EDA\n",
        "\n",
        "\n",
        "\n"
      ]
    },
    {
      "cell_type": "code",
      "metadata": {
        "colab": {
          "base_uri": "https://localhost:8080/"
        },
        "id": "QkGdkBTe3MPJ",
        "outputId": "d8b9d468-4379-4ab1-f6db-9414fa665665"
      },
      "source": [
        "#Find Out the data tyoes in our data frame\n",
        "banks_df.dtypes"
      ],
      "execution_count": null,
      "outputs": [
        {
          "output_type": "execute_result",
          "data": {
            "text/plain": [
              "country                    object\n",
              "year                        int64\n",
              "BANK_AC                    object\n",
              "type_of_location           object\n",
              "Cell_Phone_Access          object\n",
              "household_size              int64\n",
              "Age                       float64\n",
              "gender                     object\n",
              "Relationship_with_head     object\n",
              "marital_status             object\n",
              "Education_Level            object\n",
              "Job_Type                   object\n",
              "dtype: object"
            ]
          },
          "metadata": {},
          "execution_count": 26
        }
      ]
    },
    {
      "cell_type": "code",
      "metadata": {
        "colab": {
          "base_uri": "https://localhost:8080/",
          "height": 513
        },
        "id": "KMvMtLKH3WVK",
        "outputId": "fdf8f369-a89a-4333-ff5a-e163ecfdb93e"
      },
      "source": [
        "#looking at people with bank Accounts with respect to marital status\n",
        "plt.hist(banks_df['marital_status'])\n",
        "plt.gcf().set_size_inches(15, 8)\n",
        "# Labelling our x axis\n",
        "plt.xlabel(\"Marital Status\")\n",
        "\n",
        "# Labelling our y axis\n",
        "plt.ylabel(\"Number of People\")\n",
        "\n",
        "# Giving a title to our Bar chart\n",
        "plt.title(\"People with Bank Accounts with respect to marital status\")\n",
        "plt.show()\n",
        "#this shows that people who are married have the most bank accounts"
      ],
      "execution_count": null,
      "outputs": [
        {
          "output_type": "display_data",
          "data": {
            "image/png": "[encoded data removed]",
            "text/plain": [
              "<Figure size 1080x576 with 1 Axes>"
            ]
          },
          "metadata": {
            "needs_background": "light"
          }
        }
      ]
    },
    {
      "cell_type": "code",
      "metadata": {
        "colab": {
          "base_uri": "https://localhost:8080/",
          "height": 350
        },
        "id": "6NzfA86Z3fVf",
        "outputId": "8d42e1de-012c-4149-897f-4bd7f4616814"
      },
      "source": [
        "plt.hist(banks_df['type_of_location'])\n",
        "plt.gcf().set_size_inches(3, 5)\n",
        "# Labelling our x axis\n",
        "plt.xlabel(\"Type of Location\")\n",
        "\n",
        "# Labelling our y axis\n",
        "plt.ylabel(\"Number of People\")\n",
        "\n",
        "# Giving a title to our Bar chart\n",
        "plt.title(\"People with Bank Accounts with respect to where they live\")\n",
        "plt.show()\n",
        "#this shows that of the total number of people with bank accounts, more are from rural areas as compared to urban areas"
      ],
      "execution_count": null,
      "outputs": [
        {
          "output_type": "display_data",
          "data": {
            "image/png": "[encoded data removed]",
            "text/plain": [
              "<Figure size 216x360 with 1 Axes>"
            ]
          },
          "metadata": {
            "needs_background": "light"
          }
        }
      ]
    },
    {
      "cell_type": "code",
      "metadata": {
        "colab": {
          "base_uri": "https://localhost:8080/",
          "height": 531
        },
        "id": "LaCbGfrX3sEA",
        "outputId": "563dc405-b5f6-4b4f-adff-7789d0b2317d"
      },
      "source": [
        "#looking at people with banks with respect to country\n",
        "plt.hist(banks_df['country'])\n",
        "plt.gcf().set_size_inches(15, 8)\n",
        "# Labelling our x axis\n",
        "plt.xlabel(\"Country\")\n",
        "\n",
        "# Labelling our y axis\n",
        "plt.ylabel(\"Number of People\")\n",
        "\n",
        "# Giving a title to our Bar chart\n",
        "plt.title(\"People with Bank Accounts Per Country\")\n",
        "plt.legend()\n",
        "plt.show()\n",
        "#this shows that of all the people with bank accounts, the highest percentage comes from Rwanda"
      ],
      "execution_count": null,
      "outputs": [
        {
          "output_type": "stream",
          "name": "stderr",
          "text": [
            "No handles with labels found to put in legend.\n"
          ]
        },
        {
          "output_type": "display_data",
          "data": {
            "image/png": "[encoded data removed]",
            "text/plain": [
              "<Figure size 1080x576 with 1 Axes>"
            ]
          },
          "metadata": {
            "needs_background": "light"
          }
        }
      ]
    },
    {
      "cell_type": "code",
      "metadata": {
        "colab": {
          "base_uri": "https://localhost:8080/",
          "height": 531
        },
        "id": "xfbJH-rx35sa",
        "outputId": "0e4b0deb-14dd-486f-92af-428829f7fed7"
      },
      "source": [
        "#looking at people with banks with respect to the size of the household\n",
        "plt.hist(banks_df['household_size'])\n",
        "plt.gcf().set_size_inches(15, 8)\n",
        "# Labelling our x axis\n",
        "plt.xlabel(\"Size of Household\")\n",
        "\n",
        "# Labelling our y axis\n",
        "plt.ylabel(\"Number of People\")\n",
        "\n",
        "# Giving a title to our Bar chart\n",
        "plt.title(\"People with Bank Accounts with respect to the size of the household\")\n",
        "plt.legend()\n",
        "plt.show()\n",
        "#bigger households are likely to have no bank accounts"
      ],
      "execution_count": null,
      "outputs": [
        {
          "output_type": "stream",
          "name": "stderr",
          "text": [
            "No handles with labels found to put in legend.\n"
          ]
        },
        {
          "output_type": "display_data",
          "data": {
            "image/png": "[encoded data removed]",
            "text/plain": [
              "<Figure size 1080x576 with 1 Axes>"
            ]
          },
          "metadata": {
            "needs_background": "light"
          }
        }
      ]
    },
    {
      "cell_type": "code",
      "metadata": {
        "colab": {
          "base_uri": "https://localhost:8080/",
          "height": 531
        },
        "id": "LECoMVxw4Hh1",
        "outputId": "dd9c16e8-cb57-4120-eaa7-0d68c7e7fe77"
      },
      "source": [
        "#looking at people with banks with respect to marital status\n",
        "plt.hist(banks_df['Relationship_with_head'])\n",
        "plt.gcf().set_size_inches(15, 8)\n",
        "# Labelling our x axis\n",
        "plt.xlabel(\"Relationship with the Head of the Family\")\n",
        "\n",
        "# Labelling our y axis\n",
        "plt.ylabel(\"Number of People\")\n",
        "\n",
        "# Giving a title to our Bar chart\n",
        "plt.title(\"People with Bank Accounts with respect to the Head of the Family\")\n",
        "plt.legend()\n",
        "plt.show()\n",
        "#this shows that of the people with bank accounts, most are likely to be heads of the household"
      ],
      "execution_count": null,
      "outputs": [
        {
          "output_type": "stream",
          "name": "stderr",
          "text": [
            "No handles with labels found to put in legend.\n"
          ]
        },
        {
          "output_type": "display_data",
          "data": {
            "image/png": "[encoded data removed]",
            "text/plain": [
              "<Figure size 1080x576 with 1 Axes>"
            ]
          },
          "metadata": {
            "needs_background": "light"
          }
        }
      ]
    },
    {
      "cell_type": "code",
      "metadata": {
        "colab": {
          "base_uri": "https://localhost:8080/",
          "height": 399
        },
        "id": "T-fKFAoj4ZnT",
        "outputId": "e9f83bee-d0f8-458f-ef2f-f5fcd8b6df0b"
      },
      "source": [
        "#looking at people with banks with respect to type of job they have\n",
        "plt.hist(banks_df['Job_Type'])\n",
        "plt.gcf().set_size_inches(25, 8)\n",
        "# Labelling our x axis\n",
        "plt.xlabel(\"Job Type\")\n",
        "\n",
        "# Labelling our y axis\n",
        "plt.ylabel(\"Number of People\")\n",
        "\n",
        "# Giving a title to our Bar chart\n",
        "plt.title(\"People with Bank Accounts with respect to the Type of Job they Have\")\n",
        "plt.show()\n",
        "#this shows that of the people with bank accounts, the greatest percentage is self employed"
      ],
      "execution_count": null,
      "outputs": [
        {
          "output_type": "display_data",
          "data": {
            "image/png": "[encoded data removed]",
            "text/plain": [
              "<Figure size 1800x576 with 1 Axes>"
            ]
          },
          "metadata": {
            "needs_background": "light"
          }
        }
      ]
    },
    {
      "cell_type": "code",
      "metadata": {
        "colab": {
          "base_uri": "https://localhost:8080/",
          "height": 531
        },
        "id": "29hxgeb44wnD",
        "outputId": "cb354cb7-84af-4f01-9a47-8cafb0a47f5e"
      },
      "source": [
        "#looking at people with banks with respect to level of education\n",
        "plt.hist(banks_df['Education_Level'])\n",
        "plt.gcf().set_size_inches(15, 8)\n",
        "# Labelling our x axis\n",
        "plt.xlabel(\"Level of Education\")\n",
        "\n",
        "# Labelling our y axis\n",
        "plt.ylabel(\"Number of People\")\n",
        "\n",
        "# Giving a title to our Bar chart\n",
        "plt.title(\"People with Bank Accounts with respect to the Level of Education\")\n",
        "plt.legend()\n",
        "plt.show()\n",
        "#this shows that of all the people with bank accounts, the greatest number had at least primary education level"
      ],
      "execution_count": null,
      "outputs": [
        {
          "output_type": "stream",
          "name": "stderr",
          "text": [
            "No handles with labels found to put in legend.\n"
          ]
        },
        {
          "output_type": "display_data",
          "data": {
            "image/png": "[encoded data removed]",
            "text/plain": [
              "<Figure size 1080x576 with 1 Axes>"
            ]
          },
          "metadata": {
            "needs_background": "light"
          }
        }
      ]
    },
    {
      "cell_type": "code",
      "metadata": {
        "colab": {
          "base_uri": "https://localhost:8080/",
          "height": 513
        },
        "id": "Ledcn59p5NT0",
        "outputId": "3bb04b30-7ddf-49ee-82b0-3cc6952116ac"
      },
      "source": [
        "plt.hist(banks_df['Age'], bins = 10)\n",
        "plt.gcf().set_size_inches(15, 8)\n",
        "# Labelling our x axis\n",
        "plt.xlabel(\"Age\")\n",
        "\n",
        "# Labelling our y axis\n",
        "plt.ylabel(\"Number of People\")\n",
        "\n",
        "# Giving a title to our Bar chart\n",
        "plt.title(\"People with Bank Accounts with respect to their age\")\n",
        "plt.show()"
      ],
      "execution_count": null,
      "outputs": [
        {
          "output_type": "display_data",
          "data": {
            "image/png": "[encoded data removed]",
            "text/plain": [
              "<Figure size 1080x576 with 1 Axes>"
            ]
          },
          "metadata": {
            "needs_background": "light"
          }
        }
      ]
    },
    {
      "cell_type": "code",
      "metadata": {
        "colab": {
          "base_uri": "https://localhost:8080/",
          "height": 295
        },
        "id": "V9scWze85cQq",
        "outputId": "349e80a1-c64a-4174-b7bc-9e4852b7525c"
      },
      "source": [
        "plt.hist(banks_df['gender'])\n",
        "plt.gcf().set_size_inches(5,4)\n",
        "# Labelling our x axis\n",
        "plt.xlabel(\"Gender\")\n",
        "\n",
        "# Labelling our y axis\n",
        "plt.ylabel(\"Number of People\")\n",
        "\n",
        "# Giving a title to our Bar chart\n",
        "plt.title(\"People with Bank Accounts with respect to Gender\")\n",
        "plt.show()\n",
        "#this shows that out of the people with bank accounts in these countres, there are more women than men"
      ],
      "execution_count": null,
      "outputs": [
        {
          "output_type": "display_data",
          "data": {
            "image/png": "[encoded data removed]",
            "text/plain": [
              "<Figure size 360x288 with 1 Axes>"
            ]
          },
          "metadata": {
            "needs_background": "light"
          }
        }
      ]
    },
    {
      "cell_type": "code",
      "metadata": {
        "colab": {
          "base_uri": "https://localhost:8080/"
        },
        "id": "ePHZYKoT5qz7",
        "outputId": "0539db86-e03a-4662-d3b4-2dfd87bf0669"
      },
      "source": [
        "#the average mean age for this data is\n",
        "banks_df['Age'].mean()"
      ],
      "execution_count": null,
      "outputs": [
        {
          "output_type": "execute_result",
          "data": {
            "text/plain": [
              "38.77903634101343"
            ]
          },
          "metadata": {},
          "execution_count": 39
        }
      ]
    },
    {
      "cell_type": "code",
      "metadata": {
        "colab": {
          "base_uri": "https://localhost:8080/"
        },
        "id": "vlaEv1f96X_m",
        "outputId": "ba9eec11-0f20-4cf5-c4fa-b0b3151a2920"
      },
      "source": [
        "#the average age for people with bank accounts is\n",
        "with_bank_accounts = banks_df['BANK_AC'] == 'Yes'\n",
        "mean_for_with_bank_accounts = banks_df.loc[with_bank_accounts, 'Age'].mean()\n",
        "print(mean_for_with_bank_accounts)"
      ],
      "execution_count": null,
      "outputs": [
        {
          "output_type": "stream",
          "name": "stdout",
          "text": [
            "39.61104368932039\n"
          ]
        }
      ]
    },
    {
      "cell_type": "code",
      "metadata": {
        "colab": {
          "base_uri": "https://localhost:8080/"
        },
        "id": "eRaUT26V68H3",
        "outputId": "5581ce32-585f-4085-81a9-41fb726a6966"
      },
      "source": [
        "banks_df['Age'].median()\n",
        "#the median age of people in this data set is 35 years"
      ],
      "execution_count": null,
      "outputs": [
        {
          "output_type": "execute_result",
          "data": {
            "text/plain": [
              "35.0"
            ]
          },
          "metadata": {},
          "execution_count": 50
        }
      ]
    },
    {
      "cell_type": "code",
      "metadata": {
        "colab": {
          "base_uri": "https://localhost:8080/"
        },
        "id": "B4tLsHCu9hgF",
        "outputId": "499f84aa-b41d-47be-b03c-0665fbaeb3a3"
      },
      "source": [
        "#the median age for people with bank accounts is\n",
        "with_bank_accounts = banks_df['BANK_AC'] == 'Yes'\n",
        "median_for_with_bank_accounts = banks_df.loc[with_bank_accounts, 'Age'].median()\n",
        "print(median_for_with_bank_accounts)"
      ],
      "execution_count": null,
      "outputs": [
        {
          "output_type": "stream",
          "name": "stdout",
          "text": [
            "36.0\n"
          ]
        }
      ]
    },
    {
      "cell_type": "code",
      "metadata": {
        "colab": {
          "base_uri": "https://localhost:8080/"
        },
        "id": "bZb_gWeA90UM",
        "outputId": "5d8fb0a2-e9cf-4062-ce0c-8c8b64b7d98f"
      },
      "source": [
        "banks_df['Age'].mode()\n",
        "#the mode age of people with bank accounts in these data set is 30 years"
      ],
      "execution_count": null,
      "outputs": [
        {
          "output_type": "execute_result",
          "data": {
            "text/plain": [
              "0    30.0\n",
              "dtype: float64"
            ]
          },
          "metadata": {},
          "execution_count": 52
        }
      ]
    },
    {
      "cell_type": "code",
      "metadata": {
        "colab": {
          "base_uri": "https://localhost:8080/"
        },
        "id": "_SHsrzh398ZA",
        "outputId": "5b90bf02-96c7-44d4-a49f-046d5bb54ef1"
      },
      "source": [
        "#the mode age for people with bank accounts is\n",
        "with_bank_accounts = banks_df['BANK_AC'] == 'Yes'\n",
        "mode_for_with_bank_accounts = banks_df.loc[with_bank_accounts, 'Age'].mode()\n",
        "print(mode_for_with_bank_accounts)"
      ],
      "execution_count": null,
      "outputs": [
        {
          "output_type": "stream",
          "name": "stdout",
          "text": [
            "0    30.0\n",
            "dtype: float64\n"
          ]
        }
      ]
    },
    {
      "cell_type": "code",
      "metadata": {
        "colab": {
          "base_uri": "https://localhost:8080/"
        },
        "id": "OxNKJrlP-Ojs",
        "outputId": "45082067-750e-4ded-bd11-f03862120dda"
      },
      "source": [
        "banks_df['Age'].var()\n",
        "#this data is very widely spread om terms of age"
      ],
      "execution_count": null,
      "outputs": [
        {
          "output_type": "execute_result",
          "data": {
            "text/plain": [
              "271.72959912280606"
            ]
          },
          "metadata": {},
          "execution_count": 54
        }
      ]
    },
    {
      "cell_type": "code",
      "metadata": {
        "colab": {
          "base_uri": "https://localhost:8080/"
        },
        "id": "EAjlmqqR-VGK",
        "outputId": "31f528c6-be1e-4619-f155-0173540f5cda"
      },
      "source": [
        "#the data for those with bank accounts is less spread out\n",
        "with_bank_accounts = banks_df['BANK_AC'] == 'Yes'\n",
        "var_for_with_bank_accounts = banks_df.loc[with_bank_accounts, 'Age'].var()\n",
        "print(var_for_with_bank_accounts)"
      ],
      "execution_count": null,
      "outputs": [
        {
          "output_type": "stream",
          "name": "stdout",
          "text": [
            "205.72362913799947\n"
          ]
        }
      ]
    },
    {
      "cell_type": "code",
      "metadata": {
        "colab": {
          "base_uri": "https://localhost:8080/"
        },
        "id": "IJy7hM_W-rfl",
        "outputId": "063c75ed-4a6f-4d42-9b78-ab602af5232c"
      },
      "source": [
        "banks_df['Age'].std()\n",
        "#this data is very widely spread om terms of age"
      ],
      "execution_count": null,
      "outputs": [
        {
          "output_type": "execute_result",
          "data": {
            "text/plain": [
              "16.48422273335343"
            ]
          },
          "metadata": {},
          "execution_count": 56
        }
      ]
    },
    {
      "cell_type": "code",
      "metadata": {
        "colab": {
          "base_uri": "https://localhost:8080/"
        },
        "id": "7br5qCmb-zv2",
        "outputId": "2165ee0f-4fd1-49a0-be41-69d8b47a6209"
      },
      "source": [
        "#when it comes to those with bank a/cs the data is less spread out\n",
        "with_bank_accounts = banks_df['BANK_AC'] == 'Yes'\n",
        "std_for_with_bank_accounts = banks_df.loc[with_bank_accounts, 'Age'].std()\n",
        "print(std_for_with_bank_accounts)"
      ],
      "execution_count": null,
      "outputs": [
        {
          "output_type": "stream",
          "name": "stdout",
          "text": [
            "14.343069027861487\n"
          ]
        }
      ]
    },
    {
      "cell_type": "code",
      "metadata": {
        "colab": {
          "base_uri": "https://localhost:8080/"
        },
        "id": "HRwG7mAl_Y9k",
        "outputId": "db44894e-7ca3-4fdc-d858-808cb0cbd1be"
      },
      "source": [
        "#find the max value in the age\n",
        "banks_df_max=banks_df['Age'].max()\n",
        "banks_df_max\n",
        "#the oldest person with in this data set was 100 years old"
      ],
      "execution_count": null,
      "outputs": [
        {
          "output_type": "execute_result",
          "data": {
            "text/plain": [
              "100.0"
            ]
          },
          "metadata": {},
          "execution_count": 58
        }
      ]
    },
    {
      "cell_type": "code",
      "metadata": {
        "colab": {
          "base_uri": "https://localhost:8080/"
        },
        "id": "zmFBAgon_dQS",
        "outputId": "4fb2cf5c-c082-480b-d6b3-d454120879a6"
      },
      "source": [
        "with_bank_accounts = banks_df['BANK_AC'] == 'Yes'\n",
        "max_for_with_bank_accounts = banks_df.loc[with_bank_accounts, 'Age'].max()\n",
        "print(max_for_with_bank_accounts)\n",
        "#the oldest person with a bank account according to this data set was 95 years old"
      ],
      "execution_count": null,
      "outputs": [
        {
          "output_type": "stream",
          "name": "stdout",
          "text": [
            "95.0\n"
          ]
        }
      ]
    },
    {
      "cell_type": "code",
      "metadata": {
        "colab": {
          "base_uri": "https://localhost:8080/"
        },
        "id": "qcdhG2DQ_4MF",
        "outputId": "08f77181-e90d-41c2-a08c-805d3d701f1e"
      },
      "source": [
        "#find the min value in the age\n",
        "banks_df_min=banks_df['Age'].min()\n",
        "banks_df_min\n",
        "#the youngest person in this data set was 16 years old"
      ],
      "execution_count": null,
      "outputs": [
        {
          "output_type": "execute_result",
          "data": {
            "text/plain": [
              "16.0"
            ]
          },
          "metadata": {},
          "execution_count": 61
        }
      ]
    },
    {
      "cell_type": "code",
      "metadata": {
        "colab": {
          "base_uri": "https://localhost:8080/"
        },
        "id": "RXvKYZeJ_8Z8",
        "outputId": "18178d29-0b8b-4794-ca14-66e3be724bc2"
      },
      "source": [
        "with_bank_accounts = banks_df['BANK_AC'] == 'Yes'\n",
        "min_for_with_bank_accounts = banks_df.loc[with_bank_accounts, 'Age'].min()\n",
        "print(min_for_with_bank_accounts)\n",
        "#the youngest person with a bank account according to this data set was 16 years old"
      ],
      "execution_count": null,
      "outputs": [
        {
          "output_type": "stream",
          "name": "stdout",
          "text": [
            "16.0\n"
          ]
        }
      ]
    },
    {
      "cell_type": "code",
      "metadata": {
        "colab": {
          "base_uri": "https://localhost:8080/"
        },
        "id": "fZGnzrApAPnQ",
        "outputId": "a7ec424b-0947-4145-92bf-b626d70c0830"
      },
      "source": [
        "#calculating the range\n",
        "banks_df_max-banks_df_min\n",
        "#the range of age of people in this dataset is 84years"
      ],
      "execution_count": null,
      "outputs": [
        {
          "output_type": "execute_result",
          "data": {
            "text/plain": [
              "84.0"
            ]
          },
          "metadata": {},
          "execution_count": 63
        }
      ]
    },
    {
      "cell_type": "code",
      "metadata": {
        "colab": {
          "base_uri": "https://localhost:8080/"
        },
        "id": "dzdu79K2ARxP",
        "outputId": "d5104e7a-281f-439a-9ed7-8cdf47cf5d2d"
      },
      "source": [
        "#calculating the range\n",
        "max_for_with_bank_accounts-min_for_with_bank_accounts\n",
        "#the range of age of people in this dataset is 79years"
      ],
      "execution_count": null,
      "outputs": [
        {
          "output_type": "execute_result",
          "data": {
            "text/plain": [
              "79.0"
            ]
          },
          "metadata": {},
          "execution_count": 64
        }
      ]
    },
    {
      "cell_type": "code",
      "metadata": {
        "colab": {
          "base_uri": "https://localhost:8080/"
        },
        "id": "ECjmQtkYAprG",
        "outputId": "7845c8b2-be1c-40a9-de1a-d75c9d867a5d"
      },
      "source": [
        "#Quartiles\n",
        "banks_df['Age'].quantile([0.25,0.5,0.75])\n",
        "#the lower quantile is 26, the mean is 35 and the upper quantile is 49"
      ],
      "execution_count": null,
      "outputs": [
        {
          "output_type": "execute_result",
          "data": {
            "text/plain": [
              "0.25    26.0\n",
              "0.50    35.0\n",
              "0.75    49.0\n",
              "Name: Age, dtype: float64"
            ]
          },
          "metadata": {},
          "execution_count": 65
        }
      ]
    },
    {
      "cell_type": "code",
      "metadata": {
        "colab": {
          "base_uri": "https://localhost:8080/"
        },
        "id": "ZWS9ONz5Aufw",
        "outputId": "7b6cd6c9-a61d-4a95-b3c7-06672dca26b1"
      },
      "source": [
        "with_bank_accounts = banks_df['BANK_AC'] == 'Yes'\n",
        "qt_for_with_bank_accounts = banks_df.loc[with_bank_accounts, 'Age'].quantile([0.25,0.5,0.75])\n",
        "print(qt_for_with_bank_accounts)\n",
        "#the lower quantile is 29, the mean is 36 and the upper quantile is 48"
      ],
      "execution_count": null,
      "outputs": [
        {
          "output_type": "stream",
          "name": "stdout",
          "text": [
            "0.25    29.0\n",
            "0.50    36.0\n",
            "0.75    48.0\n",
            "Name: Age, dtype: float64\n"
          ]
        }
      ]
    },
    {
      "cell_type": "code",
      "metadata": {
        "colab": {
          "base_uri": "https://localhost:8080/"
        },
        "id": "5plcBVfWBFS_",
        "outputId": "4fabcb33-0684-445f-fadf-8c7b939f9cf5"
      },
      "source": [
        "#Skewness\n",
        "banks_df['Age'].kurt()\n",
        "#This is likely a normal distribution"
      ],
      "execution_count": null,
      "outputs": [
        {
          "output_type": "execute_result",
          "data": {
            "text/plain": [
              "0.09242946026485122"
            ]
          },
          "metadata": {},
          "execution_count": 67
        }
      ]
    },
    {
      "cell_type": "code",
      "metadata": {
        "colab": {
          "base_uri": "https://localhost:8080/"
        },
        "id": "ZWuBWL3dBJOZ",
        "outputId": "764a6570-d60d-4499-ecd2-d0368e439b0b"
      },
      "source": [
        "with_bank_accounts = banks_df['BANK_AC'] == 'Yes'\n",
        "kurt_for_with_bank_accounts = banks_df.loc[with_bank_accounts, 'Age'].kurt()\n",
        "print(kurt_for_with_bank_accounts)\n",
        "#A normal distribution curve"
      ],
      "execution_count": null,
      "outputs": [
        {
          "output_type": "stream",
          "name": "stdout",
          "text": [
            "0.46631994043616576\n"
          ]
        }
      ]
    },
    {
      "cell_type": "code",
      "metadata": {
        "colab": {
          "base_uri": "https://localhost:8080/"
        },
        "id": "vSSlWtbTBbgt",
        "outputId": "38c2bb27-b1cd-4ac0-fec5-3c4fc1200489"
      },
      "source": [
        "# Displaying the summary statistics of the dataframe\n",
        "\n",
        "banks_df['Age'].describe()"
      ],
      "execution_count": null,
      "outputs": [
        {
          "output_type": "execute_result",
          "data": {
            "text/plain": [
              "count    23307.000000\n",
              "mean        38.779036\n",
              "std         16.484223\n",
              "min         16.000000\n",
              "25%         26.000000\n",
              "50%         35.000000\n",
              "75%         49.000000\n",
              "max        100.000000\n",
              "Name: Age, dtype: float64"
            ]
          },
          "metadata": {},
          "execution_count": 69
        }
      ]
    },
    {
      "cell_type": "code",
      "metadata": {
        "colab": {
          "base_uri": "https://localhost:8080/"
        },
        "id": "RmnaNHfuBgwE",
        "outputId": "d0cffd0d-98a6-46df-d5b2-9e0200866012"
      },
      "source": [
        "#summary stats for those with bank ACs\n",
        "with_bank_accounts = banks_df['BANK_AC'] == 'Yes'\n",
        "stat_for_with_bank_accounts = banks_df.loc[with_bank_accounts, 'Age'].describe()\n",
        "print(stat_for_with_bank_accounts)"
      ],
      "execution_count": null,
      "outputs": [
        {
          "output_type": "stream",
          "name": "stdout",
          "text": [
            "count    3296.000000\n",
            "mean       39.611044\n",
            "std        14.343069\n",
            "min        16.000000\n",
            "25%        29.000000\n",
            "50%        36.000000\n",
            "75%        48.000000\n",
            "max        95.000000\n",
            "Name: Age, dtype: float64\n"
          ]
        }
      ]
    },
    {
      "cell_type": "code",
      "metadata": {
        "colab": {
          "base_uri": "https://localhost:8080/",
          "height": 354
        },
        "id": "s_zxHmqdB04Z",
        "outputId": "6a7ea15b-1c0a-4fde-c2d3-8fc98ecc0e1b"
      },
      "source": [
        "sns.boxplot(banks_df[\"Age\"], showmeans=True)\n",
        "#this shows that most of the people in this data set  are btn 25 and 50"
      ],
      "execution_count": null,
      "outputs": [
        {
          "output_type": "stream",
          "name": "stderr",
          "text": [
            "/usr/local/lib/python3.7/dist-packages/seaborn/_decorators.py:43: FutureWarning: Pass the following variable as a keyword arg: x. From version 0.12, the only valid positional argument will be `data`, and passing other arguments without an explicit keyword will result in an error or misinterpretation.\n",
            "  FutureWarning\n"
          ]
        },
        {
          "output_type": "execute_result",
          "data": {
            "text/plain": [
              "<matplotlib.axes._subplots.AxesSubplot at 0x7f8effc66310>"
            ]
          },
          "metadata": {},
          "execution_count": 71
        },
        {
          "output_type": "display_data",
          "data": {
            "image/png": "[encoded data removed]",
            "text/plain": [
              "<Figure size 432x288 with 1 Axes>"
            ]
          },
          "metadata": {
            "needs_background": "light"
          }
        }
      ]
    },
    {
      "cell_type": "code",
      "metadata": {
        "colab": {
          "base_uri": "https://localhost:8080/",
          "height": 354
        },
        "id": "r7s86_iCCBMq",
        "outputId": "091aecd9-da22-4775-8d22-01b7b917166a"
      },
      "source": [
        "with_bank_accounts = banks_df['BANK_AC'] == 'Yes'\n",
        "y = banks_df.loc[with_bank_accounts, 'Age']\n",
        "sns.boxplot(y, showmeans=True)\n",
        "#most people with bank acounts are btn the ages of 30 and 50"
      ],
      "execution_count": null,
      "outputs": [
        {
          "output_type": "stream",
          "name": "stderr",
          "text": [
            "/usr/local/lib/python3.7/dist-packages/seaborn/_decorators.py:43: FutureWarning: Pass the following variable as a keyword arg: x. From version 0.12, the only valid positional argument will be `data`, and passing other arguments without an explicit keyword will result in an error or misinterpretation.\n",
            "  FutureWarning\n"
          ]
        },
        {
          "output_type": "execute_result",
          "data": {
            "text/plain": [
              "<matplotlib.axes._subplots.AxesSubplot at 0x7f8effb36b10>"
            ]
          },
          "metadata": {},
          "execution_count": 73
        },
        {
          "output_type": "display_data",
          "data": {
            "image/png": "[encoded data removed]",
            "text/plain": [
              "<Figure size 432x288 with 1 Axes>"
            ]
          },
          "metadata": {
            "needs_background": "light"
          }
        }
      ]
    },
    {
      "cell_type": "markdown",
      "metadata": {
        "id": "mzWVjGJmC0_m"
      },
      "source": [
        "Bivariate Analysis- Exploratory Data Analysis (EDA)"
      ]
    },
    {
      "cell_type": "code",
      "metadata": {
        "colab": {
          "base_uri": "https://localhost:8080/",
          "height": 329
        },
        "id": "ovsfXSofC4WN",
        "outputId": "3d8b77be-b7f5-4ee3-c591-5541bb9a716d"
      },
      "source": [
        "pd.crosstab(banks_df['country'], banks_df['BANK_AC']).plot(kind='bar', stacked=True)\n",
        "#this shows what percentage of the population has bank accounts per country\n",
        "# Labelling our x axis\n",
        "plt.xlabel(\"Country\")\n",
        "\n",
        "# Labelling our y axis\n",
        "plt.ylabel(\"Number of People\")\n",
        "\n",
        "# Giving a title to our Bar chart\n",
        "plt.title(\"People with Bank Accounts vs without bank Acs with respect to Country\")\n",
        "plt.show()"
      ],
      "execution_count": null,
      "outputs": [
        {
          "output_type": "display_data",
          "data": {
            "image/png": "[encoded data removed]",
            "text/plain": [
              "<Figure size 432x288 with 1 Axes>"
            ]
          },
          "metadata": {
            "needs_background": "light"
          }
        }
      ]
    },
    {
      "cell_type": "code",
      "metadata": {
        "colab": {
          "base_uri": "https://localhost:8080/",
          "height": 329
        },
        "id": "mtfZsY-8Dbxu",
        "outputId": "3207a024-7133-4647-f8a3-d31ba3e59a91"
      },
      "source": [
        "pd.crosstab(banks_df['country'], banks_df['marital_status']).plot(kind='bar', stacked=True)\n",
        "# Labelling our x axis\n",
        "plt.xlabel(\"Marital Status\")\n",
        "\n",
        "# Labelling our y axis\n",
        "plt.ylabel(\"Number of People\")\n",
        "\n",
        "# Giving a title to our Bar chart\n",
        "plt.title(\"People with Bank Accounts vs without bank Acs with respect to Marital Status\")\n",
        "plt.show()\n",
        "#this shows what percentage of people per country according to their marital status"
      ],
      "execution_count": null,
      "outputs": [
        {
          "output_type": "display_data",
          "data": {
            "image/png": "[encoded data removed]",
            "text/plain": [
              "<Figure size 432x288 with 1 Axes>"
            ]
          },
          "metadata": {
            "needs_background": "light"
          }
        }
      ]
    },
    {
      "cell_type": "code",
      "metadata": {
        "colab": {
          "base_uri": "https://localhost:8080/",
          "height": 301
        },
        "id": "YxsRrQN3D0fw",
        "outputId": "ec7acc89-d903-424f-be22-e0903e340716"
      },
      "source": [
        "pd.crosstab(banks_df['BANK_AC'], banks_df['gender']).plot(kind='bar', stacked=True)\n",
        "# Labelling our x axis\n",
        "plt.xlabel(\"Gender\")\n",
        "\n",
        "# Labelling our y axis\n",
        "plt.ylabel(\"Number of People\")\n",
        "\n",
        "# Giving a title to our Bar chart\n",
        "plt.title(\"People with Bank Accounts vs without bank Acs with respect to Marital Status\")\n",
        "plt.show()\n",
        "#this shows that more people do not have a bank account that those who do\n",
        "#it also shows that out of the ones with a bank account, there are more men than women\n",
        "#and for those without a bank account thre are more women than men "
      ],
      "execution_count": null,
      "outputs": [
        {
          "output_type": "display_data",
          "data": {
            "image/png": "[encoded data removed]",
            "text/plain": [
              "<Figure size 432x288 with 1 Axes>"
            ]
          },
          "metadata": {
            "needs_background": "light"
          }
        }
      ]
    },
    {
      "cell_type": "code",
      "metadata": {
        "colab": {
          "base_uri": "https://localhost:8080/",
          "height": 301
        },
        "id": "hr5WPZWWEGJs",
        "outputId": "40e2f3b3-604b-4226-a501-e94384c8c7c6"
      },
      "source": [
        "pd.crosstab(banks_df['BANK_AC'], banks_df['marital_status']).plot(kind='bar', stacked=True)\n",
        "plt.xlabel(\"Marital Status\")\n",
        "\n",
        "# Labelling our y axis\n",
        "plt.ylabel(\"Number of People\")\n",
        "\n",
        "# Giving a title to our Bar chart\n",
        "plt.title(\"People with Bank Accounts vs without bank Acs with respect to Marital Status\")\n",
        "plt.show()\n",
        "#This shows that of those without bank accounts, single/never married and married single are the most\n",
        "#it also shows that of those with bank accounts, those married are the most"
      ],
      "execution_count": null,
      "outputs": [
        {
          "output_type": "display_data",
          "data": {
            "image/png": "[encoded data removed]",
            "text/plain": [
              "<Figure size 432x288 with 1 Axes>"
            ]
          },
          "metadata": {
            "needs_background": "light"
          }
        }
      ]
    },
    {
      "cell_type": "code",
      "metadata": {
        "colab": {
          "base_uri": "https://localhost:8080/",
          "height": 301
        },
        "id": "wD0Q553dEGB4",
        "outputId": "0c512b51-8777-4a84-89b9-34e2b3bcacd6"
      },
      "source": [
        "pd.crosstab(banks_df['BANK_AC'], banks_df['type_of_location']).plot(kind='bar', stacked=True)\n",
        "plt.xlabel(\"Location\")\n",
        "\n",
        "# Labelling our y axis\n",
        "plt.ylabel(\"Number of People\")\n",
        "\n",
        "# Giving a title to our Bar chart\n",
        "plt.title(\"People with Bank Accounts vs without bank Acs with respect to Location\")\n",
        "plt.show()\n",
        "#this shows of the people with bank accounts, there is an almost equal distribution btn rural and urban areas\n",
        "#On the other hand, of those without bank accounts, the ones in the rural areas are slightly mor"
      ],
      "execution_count": null,
      "outputs": [
        {
          "output_type": "display_data",
          "data": {
            "image/png": "[encoded data removed]",
            "text/plain": [
              "<Figure size 432x288 with 1 Axes>"
            ]
          },
          "metadata": {
            "needs_background": "light"
          }
        }
      ]
    },
    {
      "cell_type": "code",
      "metadata": {
        "colab": {
          "base_uri": "https://localhost:8080/",
          "height": 439
        },
        "id": "hQ3O4lEXEsdA",
        "outputId": "4c2ca513-a42c-4a36-a9fa-6d237f1a6710"
      },
      "source": [
        "pd.crosstab(banks_df['Education_Level'], banks_df['BANK_AC']).plot(kind='bar', stacked=True)\n",
        "plt.xlabel(\"Level of Education\")\n",
        "\n",
        "# Labelling our y axis\n",
        "plt.ylabel(\"Number of People\")\n",
        "\n",
        "# Giving a title to our Bar chart\n",
        "plt.title(\"People with Bank Accounts vs without bank Acs with respect to Level of Education\")\n",
        "plt.show()\n",
        "#this shows that most people without a bank account have a primary level of education"
      ],
      "execution_count": null,
      "outputs": [
        {
          "output_type": "display_data",
          "data": {
            "image/png": "[encoded data removed]",
            "text/plain": [
              "<Figure size 432x288 with 1 Axes>"
            ]
          },
          "metadata": {
            "needs_background": "light"
          }
        }
      ]
    },
    {
      "cell_type": "code",
      "metadata": {
        "colab": {
          "base_uri": "https://localhost:8080/",
          "height": 329
        },
        "id": "_8j8zSw5E-cv",
        "outputId": "b692bf88-06c5-4328-c9d3-b5daeea0616b"
      },
      "source": [
        "pd.crosstab(banks_df['country'], banks_df['gender']).plot(kind='bar', stacked=True)\n",
        "plt.xlabel(\"Country\")\n",
        "\n",
        "# Labelling our y axis\n",
        "plt.ylabel(\"Number of People\")\n",
        "\n",
        "# Giving a title to our Bar chart\n",
        "plt.title(\"Countries as respresented by Gender\")\n",
        "plt.show()\n",
        "#the gender dynamic shows that across all countries, there are more women than men with bank account"
      ],
      "execution_count": null,
      "outputs": [
        {
          "output_type": "display_data",
          "data": {
            "image/png": "[encoded data removed]",
            "text/plain": [
              "<Figure size 432x288 with 1 Axes>"
            ]
          },
          "metadata": {
            "needs_background": "light"
          }
        }
      ]
    },
    {
      "cell_type": "markdown",
      "metadata": {
        "id": "SUvJHGhtGM2i"
      },
      "source": [
        "MultiVariate Analysis Using Factor Analysis"
      ]
    },
    {
      "cell_type": "code",
      "metadata": {
        "colab": {
          "base_uri": "https://localhost:8080/",
          "height": 207
        },
        "id": "_8SAGAx7FnJ7",
        "outputId": "b9266ed7-fafc-4673-ef4e-36cb023cf6b3"
      },
      "source": [
        "#separate datasets\n",
        "X= banks_df.iloc[:, 0:4],values\n",
        "Y= banks_df.iloc[:, 4],values"
      ],
      "execution_count": null,
      "outputs": [
        {
          "output_type": "error",
          "ename": "NameError",
          "evalue": "ignored",
          "traceback": [
            "\u001b[0;31m---------------------------------------------------------------------------\u001b[0m",
            "\u001b[0;31mNameError\u001b[0m                                 Traceback (most recent call last)",
            "\u001b[0;32m<ipython-input-92-9e5b1aa003be>\u001b[0m in \u001b[0;36m<module>\u001b[0;34m()\u001b[0m\n\u001b[1;32m      1\u001b[0m \u001b[0;31m#separate datasets\u001b[0m\u001b[0;34m\u001b[0m\u001b[0;34m\u001b[0m\u001b[0;34m\u001b[0m\u001b[0m\n\u001b[0;32m----> 2\u001b[0;31m \u001b[0mX\u001b[0m\u001b[0;34m=\u001b[0m \u001b[0mbanks_df\u001b[0m\u001b[0;34m.\u001b[0m\u001b[0miloc\u001b[0m\u001b[0;34m[\u001b[0m\u001b[0;34m:\u001b[0m\u001b[0;34m,\u001b[0m \u001b[0;36m0\u001b[0m\u001b[0;34m:\u001b[0m\u001b[0;36m4\u001b[0m\u001b[0;34m]\u001b[0m\u001b[0;34m,\u001b[0m\u001b[0mvalues\u001b[0m\u001b[0;34m\u001b[0m\u001b[0;34m\u001b[0m\u001b[0m\n\u001b[0m\u001b[1;32m      3\u001b[0m \u001b[0mY\u001b[0m\u001b[0;34m=\u001b[0m \u001b[0mbanks_df\u001b[0m\u001b[0;34m.\u001b[0m\u001b[0miloc\u001b[0m\u001b[0;34m[\u001b[0m\u001b[0;34m:\u001b[0m\u001b[0;34m,\u001b[0m \u001b[0;36m4\u001b[0m\u001b[0;34m]\u001b[0m\u001b[0;34m,\u001b[0m\u001b[0mvalues\u001b[0m\u001b[0;34m\u001b[0m\u001b[0;34m\u001b[0m\u001b[0m\n",
            "\u001b[0;31mNameError\u001b[0m: name 'values' is not defined"
          ]
        }
      ]
    }
  ]
}